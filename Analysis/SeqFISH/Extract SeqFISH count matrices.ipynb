{
 "cells": [
  {
   "cell_type": "code",
   "execution_count": 2,
   "metadata": {},
   "outputs": [
    {
     "name": "stdout",
     "output_type": "stream",
     "text": [
      "Populating the interactive namespace from numpy and matplotlib\n"
     ]
    }
   ],
   "source": [
    "%pylab inline\n",
    "import pandas as pd"
   ]
  },
  {
   "cell_type": "code",
   "execution_count": 5,
   "metadata": {},
   "outputs": [],
   "source": [
    "exp_mat = pd.read_excel('mmc6.xlsx', 0, header=None, index_col=0)\n",
    "\n",
    "field_vector = pd.read_excel('mmc6.xlsx', 1, header=None).T\n",
    "field_vector.index += 1\n",
    "field_vector.columns = ['field']\n",
    "\n",
    "sample_info = pd.read_excel('mmc6.xlsx', 2, header=None)\n",
    "sample_info.index += 1\n",
    "sample_info.columns = ['x', 'y', 'z']\n",
    "\n",
    "sample_info = sample_info.join(field_vector)\n",
    "\n",
    "sample_info['total_count'] = exp_mat.sum(0)"
   ]
  },
  {
   "cell_type": "code",
   "execution_count": 7,
   "metadata": {},
   "outputs": [
    {
     "data": {
      "text/plain": [
       "(249, 3585)"
      ]
     },
     "execution_count": 7,
     "metadata": {},
     "output_type": "execute_result"
    }
   ],
   "source": [
    "exp_mat.shape"
   ]
  },
  {
   "cell_type": "code",
   "execution_count": 18,
   "metadata": {},
   "outputs": [],
   "source": [
    "!mkdir -p individual_fields"
   ]
  },
  {
   "cell_type": "code",
   "execution_count": 19,
   "metadata": {},
   "outputs": [],
   "source": [
    "for field, field_si in sample_info.groupby('field'):\n",
    "    field_si.to_csv(f'individual_fields/field_{field}_sample_info.csv')\n",
    "    exp_mat.T.loc[field_si.index].to_csv(f'individual_fields/field_{field}_counts.csv')"
   ]
  },
  {
   "cell_type": "code",
   "execution_count": 20,
   "metadata": {},
   "outputs": [
    {
     "name": "stdout",
     "output_type": "stream",
     "text": [
      "field_33_counts.csv       field_40_counts.csv       field_47_counts.csv\r\n",
      "field_33_sample_info.csv  field_40_sample_info.csv  field_47_sample_info.csv\r\n",
      "field_34_counts.csv       field_41_counts.csv       field_48_counts.csv\r\n",
      "field_34_sample_info.csv  field_41_sample_info.csv  field_48_sample_info.csv\r\n",
      "field_35_counts.csv       field_42_counts.csv       field_49_counts.csv\r\n",
      "field_35_sample_info.csv  field_42_sample_info.csv  field_49_sample_info.csv\r\n",
      "field_36_counts.csv       field_43_counts.csv       field_50_counts.csv\r\n",
      "field_36_sample_info.csv  field_43_sample_info.csv  field_50_sample_info.csv\r\n",
      "field_37_counts.csv       field_44_counts.csv       field_51_counts.csv\r\n",
      "field_37_sample_info.csv  field_44_sample_info.csv  field_51_sample_info.csv\r\n",
      "field_38_counts.csv       field_45_counts.csv       field_52_counts.csv\r\n",
      "field_38_sample_info.csv  field_45_sample_info.csv  field_52_sample_info.csv\r\n",
      "field_39_counts.csv       field_46_counts.csv       field_53_counts.csv\r\n",
      "field_39_sample_info.csv  field_46_sample_info.csv  field_53_sample_info.csv\r\n"
     ]
    }
   ],
   "source": [
    "ls individual_fields/"
   ]
  },
  {
   "cell_type": "code",
   "execution_count": null,
   "metadata": {},
   "outputs": [],
   "source": []
  },
  {
   "cell_type": "code",
   "execution_count": null,
   "metadata": {},
   "outputs": [],
   "source": []
  },
  {
   "cell_type": "code",
   "execution_count": null,
   "metadata": {},
   "outputs": [],
   "source": []
  },
  {
   "cell_type": "code",
   "execution_count": null,
   "metadata": {},
   "outputs": [],
   "source": []
  },
  {
   "cell_type": "code",
   "execution_count": null,
   "metadata": {},
   "outputs": [],
   "source": []
  }
 ],
 "metadata": {
  "kernelspec": {
   "display_name": "Python 3",
   "language": "python",
   "name": "python3"
  },
  "language_info": {
   "codemirror_mode": {
    "name": "ipython",
    "version": 3
   },
   "file_extension": ".py",
   "mimetype": "text/x-python",
   "name": "python",
   "nbconvert_exporter": "python",
   "pygments_lexer": "ipython3",
   "version": "3.6.3"
  }
 },
 "nbformat": 4,
 "nbformat_minor": 2
}
